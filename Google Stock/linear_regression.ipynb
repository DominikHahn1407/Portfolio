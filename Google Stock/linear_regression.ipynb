{
 "cells": [
  {
   "cell_type": "code",
   "execution_count": 18,
   "metadata": {},
   "outputs": [],
   "source": [
    "import numpy as np\n",
    "import pandas as pd\n",
    "import matplotlib.pyplot as plt\n",
    "\n",
    "from sklearn.linear_model import LinearRegression\n",
    "from sklearn.metrics import mean_squared_error\n",
    "from sklearn.model_selection import train_test_split"
   ]
  },
  {
   "cell_type": "code",
   "execution_count": 3,
   "metadata": {},
   "outputs": [
    {
     "data": {
      "text/html": [
       "<div>\n",
       "<style scoped>\n",
       "    .dataframe tbody tr th:only-of-type {\n",
       "        vertical-align: middle;\n",
       "    }\n",
       "\n",
       "    .dataframe tbody tr th {\n",
       "        vertical-align: top;\n",
       "    }\n",
       "\n",
       "    .dataframe thead th {\n",
       "        text-align: right;\n",
       "    }\n",
       "</style>\n",
       "<table border=\"1\" class=\"dataframe\">\n",
       "  <thead>\n",
       "    <tr style=\"text-align: right;\">\n",
       "      <th></th>\n",
       "      <th>Date</th>\n",
       "      <th>Open</th>\n",
       "      <th>High</th>\n",
       "      <th>Low</th>\n",
       "      <th>Close</th>\n",
       "      <th>Adj Close</th>\n",
       "      <th>Volume</th>\n",
       "    </tr>\n",
       "  </thead>\n",
       "  <tbody>\n",
       "    <tr>\n",
       "      <th>0</th>\n",
       "      <td>2004-08-19</td>\n",
       "      <td>2.490664</td>\n",
       "      <td>2.591785</td>\n",
       "      <td>2.390042</td>\n",
       "      <td>2.499133</td>\n",
       "      <td>2.499133</td>\n",
       "      <td>897427216</td>\n",
       "    </tr>\n",
       "    <tr>\n",
       "      <th>1</th>\n",
       "      <td>2004-08-20</td>\n",
       "      <td>2.515820</td>\n",
       "      <td>2.716817</td>\n",
       "      <td>2.503118</td>\n",
       "      <td>2.697639</td>\n",
       "      <td>2.697639</td>\n",
       "      <td>458857488</td>\n",
       "    </tr>\n",
       "    <tr>\n",
       "      <th>2</th>\n",
       "      <td>2004-08-23</td>\n",
       "      <td>2.758411</td>\n",
       "      <td>2.826406</td>\n",
       "      <td>2.716070</td>\n",
       "      <td>2.724787</td>\n",
       "      <td>2.724787</td>\n",
       "      <td>366857939</td>\n",
       "    </tr>\n",
       "    <tr>\n",
       "      <th>3</th>\n",
       "      <td>2004-08-24</td>\n",
       "      <td>2.770615</td>\n",
       "      <td>2.779581</td>\n",
       "      <td>2.579581</td>\n",
       "      <td>2.611960</td>\n",
       "      <td>2.611960</td>\n",
       "      <td>306396159</td>\n",
       "    </tr>\n",
       "    <tr>\n",
       "      <th>4</th>\n",
       "      <td>2004-08-25</td>\n",
       "      <td>2.614201</td>\n",
       "      <td>2.689918</td>\n",
       "      <td>2.587302</td>\n",
       "      <td>2.640104</td>\n",
       "      <td>2.640104</td>\n",
       "      <td>184645512</td>\n",
       "    </tr>\n",
       "  </tbody>\n",
       "</table>\n",
       "</div>"
      ],
      "text/plain": [
       "         Date      Open      High       Low     Close  Adj Close     Volume\n",
       "0  2004-08-19  2.490664  2.591785  2.390042  2.499133   2.499133  897427216\n",
       "1  2004-08-20  2.515820  2.716817  2.503118  2.697639   2.697639  458857488\n",
       "2  2004-08-23  2.758411  2.826406  2.716070  2.724787   2.724787  366857939\n",
       "3  2004-08-24  2.770615  2.779581  2.579581  2.611960   2.611960  306396159\n",
       "4  2004-08-25  2.614201  2.689918  2.587302  2.640104   2.640104  184645512"
      ]
     },
     "execution_count": 3,
     "metadata": {},
     "output_type": "execute_result"
    }
   ],
   "source": [
    "df = pd.read_csv(\"./Data/GOOG.csv\")\n",
    "df.head()"
   ]
  },
  {
   "cell_type": "code",
   "execution_count": 5,
   "metadata": {},
   "outputs": [
    {
     "data": {
      "text/html": [
       "<div>\n",
       "<style scoped>\n",
       "    .dataframe tbody tr th:only-of-type {\n",
       "        vertical-align: middle;\n",
       "    }\n",
       "\n",
       "    .dataframe tbody tr th {\n",
       "        vertical-align: top;\n",
       "    }\n",
       "\n",
       "    .dataframe thead th {\n",
       "        text-align: right;\n",
       "    }\n",
       "</style>\n",
       "<table border=\"1\" class=\"dataframe\">\n",
       "  <thead>\n",
       "    <tr style=\"text-align: right;\">\n",
       "      <th></th>\n",
       "      <th>Date</th>\n",
       "      <th>Open</th>\n",
       "      <th>High</th>\n",
       "      <th>Low</th>\n",
       "      <th>Close</th>\n",
       "      <th>Adj Close</th>\n",
       "      <th>Volume</th>\n",
       "      <th>Timestamp</th>\n",
       "    </tr>\n",
       "  </thead>\n",
       "  <tbody>\n",
       "    <tr>\n",
       "      <th>0</th>\n",
       "      <td>2004-08-19</td>\n",
       "      <td>2.490664</td>\n",
       "      <td>2.591785</td>\n",
       "      <td>2.390042</td>\n",
       "      <td>2.499133</td>\n",
       "      <td>2.499133</td>\n",
       "      <td>897427216</td>\n",
       "      <td>1092873600000000000</td>\n",
       "    </tr>\n",
       "    <tr>\n",
       "      <th>1</th>\n",
       "      <td>2004-08-20</td>\n",
       "      <td>2.515820</td>\n",
       "      <td>2.716817</td>\n",
       "      <td>2.503118</td>\n",
       "      <td>2.697639</td>\n",
       "      <td>2.697639</td>\n",
       "      <td>458857488</td>\n",
       "      <td>1092960000000000000</td>\n",
       "    </tr>\n",
       "    <tr>\n",
       "      <th>2</th>\n",
       "      <td>2004-08-23</td>\n",
       "      <td>2.758411</td>\n",
       "      <td>2.826406</td>\n",
       "      <td>2.716070</td>\n",
       "      <td>2.724787</td>\n",
       "      <td>2.724787</td>\n",
       "      <td>366857939</td>\n",
       "      <td>1093219200000000000</td>\n",
       "    </tr>\n",
       "    <tr>\n",
       "      <th>3</th>\n",
       "      <td>2004-08-24</td>\n",
       "      <td>2.770615</td>\n",
       "      <td>2.779581</td>\n",
       "      <td>2.579581</td>\n",
       "      <td>2.611960</td>\n",
       "      <td>2.611960</td>\n",
       "      <td>306396159</td>\n",
       "      <td>1093305600000000000</td>\n",
       "    </tr>\n",
       "    <tr>\n",
       "      <th>4</th>\n",
       "      <td>2004-08-25</td>\n",
       "      <td>2.614201</td>\n",
       "      <td>2.689918</td>\n",
       "      <td>2.587302</td>\n",
       "      <td>2.640104</td>\n",
       "      <td>2.640104</td>\n",
       "      <td>184645512</td>\n",
       "      <td>1093392000000000000</td>\n",
       "    </tr>\n",
       "  </tbody>\n",
       "</table>\n",
       "</div>"
      ],
      "text/plain": [
       "         Date      Open      High       Low     Close  Adj Close     Volume  \\\n",
       "0  2004-08-19  2.490664  2.591785  2.390042  2.499133   2.499133  897427216   \n",
       "1  2004-08-20  2.515820  2.716817  2.503118  2.697639   2.697639  458857488   \n",
       "2  2004-08-23  2.758411  2.826406  2.716070  2.724787   2.724787  366857939   \n",
       "3  2004-08-24  2.770615  2.779581  2.579581  2.611960   2.611960  306396159   \n",
       "4  2004-08-25  2.614201  2.689918  2.587302  2.640104   2.640104  184645512   \n",
       "\n",
       "             Timestamp  \n",
       "0  1092873600000000000  \n",
       "1  1092960000000000000  \n",
       "2  1093219200000000000  \n",
       "3  1093305600000000000  \n",
       "4  1093392000000000000  "
      ]
     },
     "execution_count": 5,
     "metadata": {},
     "output_type": "execute_result"
    }
   ],
   "source": [
    "df['Timestamp'] = pd.to_datetime(df[\"Date\"]).astype('int64')\n",
    "df.head()"
   ]
  },
  {
   "cell_type": "code",
   "execution_count": 14,
   "metadata": {},
   "outputs": [],
   "source": [
    "X = df[['Timestamp']]\n",
    "y = df['Close'] # Change variable to predict other courses\n",
    "\n",
    "X_train, X_test, y_train, y_test = train_test_split(X, y, test_size=0.2, random_state=42)"
   ]
  },
  {
   "cell_type": "code",
   "execution_count": 17,
   "metadata": {},
   "outputs": [
    {
     "name": "stdout",
     "output_type": "stream",
     "text": [
      "Mean Squared Error: 338.915699603889\n"
     ]
    }
   ],
   "source": [
    "model = LinearRegression()\n",
    "model.fit(X_train, y_train)\n",
    "\n",
    "y_pred = model.predict(X_test)\n",
    "\n",
    "mse = mean_squared_error(y_test, y_pred)\n",
    "print(f\"Mean Squared Error: {mse}\")"
   ]
  },
  {
   "cell_type": "code",
   "execution_count": 23,
   "metadata": {},
   "outputs": [
    {
     "data": {
      "image/png": "[encoded data removed]",
      "text/plain": [
       "<Figure size 640x480 with 1 Axes>"
      ]
     },
     "metadata": {},
     "output_type": "display_data"
    }
   ],
   "source": [
    "# Plot the results\n",
    "plt.scatter(X_test['Timestamp'], y_test, color='black', label='Actual Prices')\n",
    "plt.plot(X_test['Timestamp'], y_pred, color='blue', linewidth=3, label='Linear Regression Model')\n",
    "plt.title('Stock Prices Linear Regression')\n",
    "plt.xlabel('Timestamp')\n",
    "plt.ylabel('Price')\n",
    "plt.legend()\n",
    "plt.show()"
   ]
  }
 ],
 "metadata": {
  "kernelspec": {
   "display_name": "deep_learning",
   "language": "python",
   "name": "python3"
  },
  "language_info": {
   "codemirror_mode": {
    "name": "ipython",
    "version": 3
   },
   "file_extension": ".py",
   "mimetype": "text/x-python",
   "name": "python",
   "nbconvert_exporter": "python",
   "pygments_lexer": "ipython3",
   "version": "3.9.7"
  }
 },
 "nbformat": 4,
 "nbformat_minor": 2
}
