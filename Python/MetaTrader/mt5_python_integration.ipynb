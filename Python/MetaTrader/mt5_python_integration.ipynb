{
 "cells": [
  {
   "cell_type": "code",
   "execution_count": 2,
   "metadata": {},
   "outputs": [],
   "source": [
    "import MetaTrader5 as mt\n",
    "import pandas as pd\n",
    "import plotly.express as px\n",
    "import os\n",
    "\n",
    "from datetime import datetime\n",
    "from dotenv import load_dotenv"
   ]
  },
  {
   "cell_type": "code",
   "execution_count": 3,
   "metadata": {},
   "outputs": [],
   "source": [
    "load_dotenv()\n",
    "\n",
    "login = os.getenv(\"LOGIN\")\n",
    "password = os.getenv(\"PASSWORD\")\n",
    "server = os.getenv(\"SERVER\")"
   ]
  },
  {
   "cell_type": "code",
   "execution_count": 4,
   "metadata": {},
   "outputs": [
    {
     "data": {
      "text/plain": [
       "True"
      ]
     },
     "execution_count": 4,
     "metadata": {},
     "output_type": "execute_result"
    }
   ],
   "source": [
    "mt.initialize()"
   ]
  },
  {
   "cell_type": "code",
   "execution_count": 5,
   "metadata": {},
   "outputs": [
    {
     "data": {
      "text/plain": [
       "True"
      ]
     },
     "execution_count": 5,
     "metadata": {},
     "output_type": "execute_result"
    }
   ],
   "source": [
    "mt.login(int(login), password, server)"
   ]
  },
  {
   "cell_type": "code",
   "execution_count": 6,
   "metadata": {},
   "outputs": [],
   "source": [
    "ticker = 'EURUSD'\n",
    "interval = mt.TIMEFRAME_D1\n",
    "from_date = datetime.now()\n",
    "n_rows = 100\n",
    "rates = mt.copy_rates_from(ticker, interval, from_date, n_rows)"
   ]
  },
  {
   "cell_type": "code",
   "execution_count": 7,
   "metadata": {},
   "outputs": [],
   "source": [
    "balance = mt.account_info().balance"
   ]
  },
  {
   "cell_type": "code",
   "execution_count": 8,
   "metadata": {},
   "outputs": [
    {
     "data": {
      "text/plain": [
       "{'custom': False,\n",
       " 'chart_mode': 0,\n",
       " 'select': True,\n",
       " 'visible': True,\n",
       " 'session_deals': 0,\n",
       " 'session_buy_orders': 0,\n",
       " 'session_sell_orders': 0,\n",
       " 'volume': 0,\n",
       " 'volumehigh': 0,\n",
       " 'volumelow': 0,\n",
       " 'time': 1708127939,\n",
       " 'digits': 5,\n",
       " 'spread': 16,\n",
       " 'spread_float': True,\n",
       " 'ticks_bookdepth': 10,\n",
       " 'trade_calc_mode': 0,\n",
       " 'trade_mode': 4,\n",
       " 'start_time': 0,\n",
       " 'expiration_time': 0,\n",
       " 'trade_stops_level': 0,\n",
       " 'trade_freeze_level': 0,\n",
       " 'trade_exemode': 1,\n",
       " 'swap_mode': 1,\n",
       " 'swap_rollover3days': 3,\n",
       " 'margin_hedged_use_leg': False,\n",
       " 'expiration_mode': 15,\n",
       " 'filling_mode': 1,\n",
       " 'order_mode': 127,\n",
       " 'order_gtc_mode': 0,\n",
       " 'option_mode': 0,\n",
       " 'option_right': 0,\n",
       " 'bid': 1.07769,\n",
       " 'bidhigh': 1.07874,\n",
       " 'bidlow': 1.07319,\n",
       " 'ask': 1.07785,\n",
       " 'askhigh': 1.07877,\n",
       " 'asklow': 1.07319,\n",
       " 'last': 0.0,\n",
       " 'lasthigh': 0.0,\n",
       " 'lastlow': 0.0,\n",
       " 'volume_real': 0.0,\n",
       " 'volumehigh_real': 0.0,\n",
       " 'volumelow_real': 0.0,\n",
       " 'option_strike': 0.0,\n",
       " 'point': 1e-05,\n",
       " 'trade_tick_value': 0.9277728811986826,\n",
       " 'trade_tick_value_profit': 0.9277728811986826,\n",
       " 'trade_tick_value_loss': 0.9279106236487301,\n",
       " 'trade_tick_size': 1e-05,\n",
       " 'trade_contract_size': 100000.0,\n",
       " 'trade_accrued_interest': 0.0,\n",
       " 'trade_face_value': 0.0,\n",
       " 'trade_liquidity_rate': 0.0,\n",
       " 'volume_min': 0.01,\n",
       " 'volume_max': 500.0,\n",
       " 'volume_step': 0.01,\n",
       " 'volume_limit': 0.0,\n",
       " 'swap_long': -0.7,\n",
       " 'swap_short': -1.0,\n",
       " 'margin_initial': 0.0,\n",
       " 'margin_maintenance': 0.0,\n",
       " 'session_volume': 0.0,\n",
       " 'session_turnover': 0.0,\n",
       " 'session_interest': 0.0,\n",
       " 'session_buy_orders_volume': 0.0,\n",
       " 'session_sell_orders_volume': 0.0,\n",
       " 'session_open': 1.07711,\n",
       " 'session_close': 1.07721,\n",
       " 'session_aw': 0.0,\n",
       " 'session_price_settlement': 0.0,\n",
       " 'session_price_limit_min': 0.0,\n",
       " 'session_price_limit_max': 0.0,\n",
       " 'margin_hedged': 100000.0,\n",
       " 'price_change': 0.0446,\n",
       " 'price_volatility': 0.0,\n",
       " 'price_theoretical': 0.0,\n",
       " 'price_greeks_delta': 0.0,\n",
       " 'price_greeks_theta': 0.0,\n",
       " 'price_greeks_gamma': 0.0,\n",
       " 'price_greeks_vega': 0.0,\n",
       " 'price_greeks_rho': 0.0,\n",
       " 'price_greeks_omega': 0.0,\n",
       " 'price_sensitivity': 0.0,\n",
       " 'basis': '',\n",
       " 'category': '',\n",
       " 'currency_base': 'EUR',\n",
       " 'currency_profit': 'USD',\n",
       " 'currency_margin': 'EUR',\n",
       " 'bank': '',\n",
       " 'description': 'Euro vs US Dollar',\n",
       " 'exchange': '',\n",
       " 'formula': '',\n",
       " 'isin': '',\n",
       " 'name': 'EURUSD',\n",
       " 'page': 'https://www.mql5.com/en/quotes/currencies/eurusd',\n",
       " 'path': 'Forex\\\\EURUSD'}"
      ]
     },
     "execution_count": 8,
     "metadata": {},
     "output_type": "execute_result"
    }
   ],
   "source": [
    "mt.symbol_info(ticker)._asdict()"
   ]
  },
  {
   "cell_type": "code",
   "execution_count": 9,
   "metadata": {},
   "outputs": [
    {
     "data": {
      "text/html": [
       "<div>\n",
       "<style scoped>\n",
       "    .dataframe tbody tr th:only-of-type {\n",
       "        vertical-align: middle;\n",
       "    }\n",
       "\n",
       "    .dataframe tbody tr th {\n",
       "        vertical-align: top;\n",
       "    }\n",
       "\n",
       "    .dataframe thead th {\n",
       "        text-align: right;\n",
       "    }\n",
       "</style>\n",
       "<table border=\"1\" class=\"dataframe\">\n",
       "  <thead>\n",
       "    <tr style=\"text-align: right;\">\n",
       "      <th></th>\n",
       "      <th>time</th>\n",
       "      <th>open</th>\n",
       "      <th>high</th>\n",
       "      <th>low</th>\n",
       "      <th>close</th>\n",
       "      <th>tick_volume</th>\n",
       "      <th>spread</th>\n",
       "      <th>real_volume</th>\n",
       "    </tr>\n",
       "  </thead>\n",
       "  <tbody>\n",
       "    <tr>\n",
       "      <th>0</th>\n",
       "      <td>1689897600</td>\n",
       "      <td>1.11291</td>\n",
       "      <td>1.11449</td>\n",
       "      <td>1.11080</td>\n",
       "      <td>1.11246</td>\n",
       "      <td>57028</td>\n",
       "      <td>0</td>\n",
       "      <td>0</td>\n",
       "    </tr>\n",
       "    <tr>\n",
       "      <th>1</th>\n",
       "      <td>1690156800</td>\n",
       "      <td>1.11213</td>\n",
       "      <td>1.11470</td>\n",
       "      <td>1.10603</td>\n",
       "      <td>1.10641</td>\n",
       "      <td>67541</td>\n",
       "      <td>0</td>\n",
       "      <td>0</td>\n",
       "    </tr>\n",
       "    <tr>\n",
       "      <th>2</th>\n",
       "      <td>1690243200</td>\n",
       "      <td>1.10636</td>\n",
       "      <td>1.10869</td>\n",
       "      <td>1.10206</td>\n",
       "      <td>1.10497</td>\n",
       "      <td>60015</td>\n",
       "      <td>0</td>\n",
       "      <td>0</td>\n",
       "    </tr>\n",
       "    <tr>\n",
       "      <th>3</th>\n",
       "      <td>1690329600</td>\n",
       "      <td>1.10500</td>\n",
       "      <td>1.11065</td>\n",
       "      <td>1.10378</td>\n",
       "      <td>1.10852</td>\n",
       "      <td>76916</td>\n",
       "      <td>0</td>\n",
       "      <td>0</td>\n",
       "    </tr>\n",
       "    <tr>\n",
       "      <th>4</th>\n",
       "      <td>1690416000</td>\n",
       "      <td>1.10856</td>\n",
       "      <td>1.11497</td>\n",
       "      <td>1.09659</td>\n",
       "      <td>1.09765</td>\n",
       "      <td>110742</td>\n",
       "      <td>0</td>\n",
       "      <td>0</td>\n",
       "    </tr>\n",
       "    <tr>\n",
       "      <th>...</th>\n",
       "      <td>...</td>\n",
       "      <td>...</td>\n",
       "      <td>...</td>\n",
       "      <td>...</td>\n",
       "      <td>...</td>\n",
       "      <td>...</td>\n",
       "      <td>...</td>\n",
       "      <td>...</td>\n",
       "    </tr>\n",
       "    <tr>\n",
       "      <th>145</th>\n",
       "      <td>1707696000</td>\n",
       "      <td>1.07785</td>\n",
       "      <td>1.08058</td>\n",
       "      <td>1.07557</td>\n",
       "      <td>1.07695</td>\n",
       "      <td>123716</td>\n",
       "      <td>0</td>\n",
       "      <td>0</td>\n",
       "    </tr>\n",
       "    <tr>\n",
       "      <th>146</th>\n",
       "      <td>1707782400</td>\n",
       "      <td>1.07712</td>\n",
       "      <td>1.07977</td>\n",
       "      <td>1.07002</td>\n",
       "      <td>1.07084</td>\n",
       "      <td>146193</td>\n",
       "      <td>0</td>\n",
       "      <td>0</td>\n",
       "    </tr>\n",
       "    <tr>\n",
       "      <th>147</th>\n",
       "      <td>1707868800</td>\n",
       "      <td>1.07083</td>\n",
       "      <td>1.07347</td>\n",
       "      <td>1.06945</td>\n",
       "      <td>1.07257</td>\n",
       "      <td>124709</td>\n",
       "      <td>0</td>\n",
       "      <td>0</td>\n",
       "    </tr>\n",
       "    <tr>\n",
       "      <th>148</th>\n",
       "      <td>1707955200</td>\n",
       "      <td>1.07241</td>\n",
       "      <td>1.07850</td>\n",
       "      <td>1.07229</td>\n",
       "      <td>1.07714</td>\n",
       "      <td>126671</td>\n",
       "      <td>0</td>\n",
       "      <td>0</td>\n",
       "    </tr>\n",
       "    <tr>\n",
       "      <th>149</th>\n",
       "      <td>1708041600</td>\n",
       "      <td>1.07705</td>\n",
       "      <td>1.07874</td>\n",
       "      <td>1.07319</td>\n",
       "      <td>1.07769</td>\n",
       "      <td>124752</td>\n",
       "      <td>0</td>\n",
       "      <td>0</td>\n",
       "    </tr>\n",
       "  </tbody>\n",
       "</table>\n",
       "<p>150 rows × 8 columns</p>\n",
       "</div>"
      ],
      "text/plain": [
       "           time     open     high      low    close  tick_volume  spread  \\\n",
       "0    1689897600  1.11291  1.11449  1.11080  1.11246        57028       0   \n",
       "1    1690156800  1.11213  1.11470  1.10603  1.10641        67541       0   \n",
       "2    1690243200  1.10636  1.10869  1.10206  1.10497        60015       0   \n",
       "3    1690329600  1.10500  1.11065  1.10378  1.10852        76916       0   \n",
       "4    1690416000  1.10856  1.11497  1.09659  1.09765       110742       0   \n",
       "..          ...      ...      ...      ...      ...          ...     ...   \n",
       "145  1707696000  1.07785  1.08058  1.07557  1.07695       123716       0   \n",
       "146  1707782400  1.07712  1.07977  1.07002  1.07084       146193       0   \n",
       "147  1707868800  1.07083  1.07347  1.06945  1.07257       124709       0   \n",
       "148  1707955200  1.07241  1.07850  1.07229  1.07714       126671       0   \n",
       "149  1708041600  1.07705  1.07874  1.07319  1.07769       124752       0   \n",
       "\n",
       "     real_volume  \n",
       "0              0  \n",
       "1              0  \n",
       "2              0  \n",
       "3              0  \n",
       "4              0  \n",
       "..           ...  \n",
       "145            0  \n",
       "146            0  \n",
       "147            0  \n",
       "148            0  \n",
       "149            0  \n",
       "\n",
       "[150 rows x 8 columns]"
      ]
     },
     "execution_count": 9,
     "metadata": {},
     "output_type": "execute_result"
    }
   ],
   "source": [
    "ohlc = pd.DataFrame(mt.copy_rates_range(ticker, interval, datetime(2023,7,21), from_date))\n",
    "ohlc"
   ]
  },
  {
   "cell_type": "code",
   "execution_count": 10,
   "metadata": {},
   "outputs": [
    {
     "data": {
      "text/html": [
       "<div>\n",
       "<style scoped>\n",
       "    .dataframe tbody tr th:only-of-type {\n",
       "        vertical-align: middle;\n",
       "    }\n",
       "\n",
       "    .dataframe tbody tr th {\n",
       "        vertical-align: top;\n",
       "    }\n",
       "\n",
       "    .dataframe thead th {\n",
       "        text-align: right;\n",
       "    }\n",
       "</style>\n",
       "<table border=\"1\" class=\"dataframe\">\n",
       "  <thead>\n",
       "    <tr style=\"text-align: right;\">\n",
       "      <th></th>\n",
       "      <th>time</th>\n",
       "      <th>open</th>\n",
       "      <th>high</th>\n",
       "      <th>low</th>\n",
       "      <th>close</th>\n",
       "      <th>tick_volume</th>\n",
       "      <th>spread</th>\n",
       "      <th>real_volume</th>\n",
       "    </tr>\n",
       "  </thead>\n",
       "  <tbody>\n",
       "    <tr>\n",
       "      <th>0</th>\n",
       "      <td>2023-07-21</td>\n",
       "      <td>1.11291</td>\n",
       "      <td>1.11449</td>\n",
       "      <td>1.11080</td>\n",
       "      <td>1.11246</td>\n",
       "      <td>57028</td>\n",
       "      <td>0</td>\n",
       "      <td>0</td>\n",
       "    </tr>\n",
       "    <tr>\n",
       "      <th>1</th>\n",
       "      <td>2023-07-24</td>\n",
       "      <td>1.11213</td>\n",
       "      <td>1.11470</td>\n",
       "      <td>1.10603</td>\n",
       "      <td>1.10641</td>\n",
       "      <td>67541</td>\n",
       "      <td>0</td>\n",
       "      <td>0</td>\n",
       "    </tr>\n",
       "    <tr>\n",
       "      <th>2</th>\n",
       "      <td>2023-07-25</td>\n",
       "      <td>1.10636</td>\n",
       "      <td>1.10869</td>\n",
       "      <td>1.10206</td>\n",
       "      <td>1.10497</td>\n",
       "      <td>60015</td>\n",
       "      <td>0</td>\n",
       "      <td>0</td>\n",
       "    </tr>\n",
       "    <tr>\n",
       "      <th>3</th>\n",
       "      <td>2023-07-26</td>\n",
       "      <td>1.10500</td>\n",
       "      <td>1.11065</td>\n",
       "      <td>1.10378</td>\n",
       "      <td>1.10852</td>\n",
       "      <td>76916</td>\n",
       "      <td>0</td>\n",
       "      <td>0</td>\n",
       "    </tr>\n",
       "    <tr>\n",
       "      <th>4</th>\n",
       "      <td>2023-07-27</td>\n",
       "      <td>1.10856</td>\n",
       "      <td>1.11497</td>\n",
       "      <td>1.09659</td>\n",
       "      <td>1.09765</td>\n",
       "      <td>110742</td>\n",
       "      <td>0</td>\n",
       "      <td>0</td>\n",
       "    </tr>\n",
       "    <tr>\n",
       "      <th>...</th>\n",
       "      <td>...</td>\n",
       "      <td>...</td>\n",
       "      <td>...</td>\n",
       "      <td>...</td>\n",
       "      <td>...</td>\n",
       "      <td>...</td>\n",
       "      <td>...</td>\n",
       "      <td>...</td>\n",
       "    </tr>\n",
       "    <tr>\n",
       "      <th>145</th>\n",
       "      <td>2024-02-12</td>\n",
       "      <td>1.07785</td>\n",
       "      <td>1.08058</td>\n",
       "      <td>1.07557</td>\n",
       "      <td>1.07695</td>\n",
       "      <td>123716</td>\n",
       "      <td>0</td>\n",
       "      <td>0</td>\n",
       "    </tr>\n",
       "    <tr>\n",
       "      <th>146</th>\n",
       "      <td>2024-02-13</td>\n",
       "      <td>1.07712</td>\n",
       "      <td>1.07977</td>\n",
       "      <td>1.07002</td>\n",
       "      <td>1.07084</td>\n",
       "      <td>146193</td>\n",
       "      <td>0</td>\n",
       "      <td>0</td>\n",
       "    </tr>\n",
       "    <tr>\n",
       "      <th>147</th>\n",
       "      <td>2024-02-14</td>\n",
       "      <td>1.07083</td>\n",
       "      <td>1.07347</td>\n",
       "      <td>1.06945</td>\n",
       "      <td>1.07257</td>\n",
       "      <td>124709</td>\n",
       "      <td>0</td>\n",
       "      <td>0</td>\n",
       "    </tr>\n",
       "    <tr>\n",
       "      <th>148</th>\n",
       "      <td>2024-02-15</td>\n",
       "      <td>1.07241</td>\n",
       "      <td>1.07850</td>\n",
       "      <td>1.07229</td>\n",
       "      <td>1.07714</td>\n",
       "      <td>126671</td>\n",
       "      <td>0</td>\n",
       "      <td>0</td>\n",
       "    </tr>\n",
       "    <tr>\n",
       "      <th>149</th>\n",
       "      <td>2024-02-16</td>\n",
       "      <td>1.07705</td>\n",
       "      <td>1.07874</td>\n",
       "      <td>1.07319</td>\n",
       "      <td>1.07769</td>\n",
       "      <td>124752</td>\n",
       "      <td>0</td>\n",
       "      <td>0</td>\n",
       "    </tr>\n",
       "  </tbody>\n",
       "</table>\n",
       "<p>150 rows × 8 columns</p>\n",
       "</div>"
      ],
      "text/plain": [
       "          time     open     high      low    close  tick_volume  spread  \\\n",
       "0   2023-07-21  1.11291  1.11449  1.11080  1.11246        57028       0   \n",
       "1   2023-07-24  1.11213  1.11470  1.10603  1.10641        67541       0   \n",
       "2   2023-07-25  1.10636  1.10869  1.10206  1.10497        60015       0   \n",
       "3   2023-07-26  1.10500  1.11065  1.10378  1.10852        76916       0   \n",
       "4   2023-07-27  1.10856  1.11497  1.09659  1.09765       110742       0   \n",
       "..         ...      ...      ...      ...      ...          ...     ...   \n",
       "145 2024-02-12  1.07785  1.08058  1.07557  1.07695       123716       0   \n",
       "146 2024-02-13  1.07712  1.07977  1.07002  1.07084       146193       0   \n",
       "147 2024-02-14  1.07083  1.07347  1.06945  1.07257       124709       0   \n",
       "148 2024-02-15  1.07241  1.07850  1.07229  1.07714       126671       0   \n",
       "149 2024-02-16  1.07705  1.07874  1.07319  1.07769       124752       0   \n",
       "\n",
       "     real_volume  \n",
       "0              0  \n",
       "1              0  \n",
       "2              0  \n",
       "3              0  \n",
       "4              0  \n",
       "..           ...  \n",
       "145            0  \n",
       "146            0  \n",
       "147            0  \n",
       "148            0  \n",
       "149            0  \n",
       "\n",
       "[150 rows x 8 columns]"
      ]
     },
     "execution_count": 10,
     "metadata": {},
     "output_type": "execute_result"
    }
   ],
   "source": [
    "ohlc['time'] = pd.to_datetime(ohlc['time'], unit='s')\n",
    "ohlc"
   ]
  },
  {
   "cell_type": "code",
   "execution_count": 11,
   "metadata": {},
   "outputs": [
    {
     "data": {
      "application/vnd.plotly.v1+json": {
       "config": {
        "plotlyServerURL": "https://plot.ly"
       },
       "data": [
        {
         "hovertemplate": "time=%{x}<br>close=%{y}<extra></extra>",
         "legendgroup": "",
         "line": {
          "color": "#636efa",
          "dash": "solid"
         },
         "marker": {
          "symbol": "circle"
         },
         "mode": "lines",
         "name": "",
         "orientation": "v",
         "showlegend": false,
         "type": "scatter",
         "x": [
          "2023-07-21T00:00:00",
          "2023-07-24T00:00:00",
          "2023-07-25T00:00:00",
          "2023-07-26T00:00:00",
          "2023-07-27T00:00:00",
          "2023-07-28T00:00:00",
          "2023-07-31T00:00:00",
          "2023-08-01T00:00:00",
          "2023-08-02T00:00:00",
          "2023-08-03T00:00:00",
          "2023-08-04T00:00:00",
          "2023-08-07T00:00:00",
          "2023-08-08T00:00:00",
          "2023-08-09T00:00:00",
          "2023-08-10T00:00:00",
          "2023-08-11T00:00:00",
          "2023-08-14T00:00:00",
          "2023-08-15T00:00:00",
          "2023-08-16T00:00:00",
          "2023-08-17T00:00:00",
          "2023-08-18T00:00:00",
          "2023-08-21T00:00:00",
          "2023-08-22T00:00:00",
          "2023-08-23T00:00:00",
          "2023-08-24T00:00:00",
          "2023-08-25T00:00:00",
          "2023-08-28T00:00:00",
          "2023-08-29T00:00:00",
          "2023-08-30T00:00:00",
          "2023-08-31T00:00:00",
          "2023-09-01T00:00:00",
          "2023-09-04T00:00:00",
          "2023-09-05T00:00:00",
          "2023-09-06T00:00:00",
          "2023-09-07T00:00:00",
          "2023-09-08T00:00:00",
          "2023-09-11T00:00:00",
          "2023-09-12T00:00:00",
          "2023-09-13T00:00:00",
          "2023-09-14T00:00:00",
          "2023-09-15T00:00:00",
          "2023-09-18T00:00:00",
          "2023-09-19T00:00:00",
          "2023-09-20T00:00:00",
          "2023-09-21T00:00:00",
          "2023-09-22T00:00:00",
          "2023-09-25T00:00:00",
          "2023-09-26T00:00:00",
          "2023-09-27T00:00:00",
          "2023-09-28T00:00:00",
          "2023-09-29T00:00:00",
          "2023-10-02T00:00:00",
          "2023-10-03T00:00:00",
          "2023-10-04T00:00:00",
          "2023-10-05T00:00:00",
          "2023-10-06T00:00:00",
          "2023-10-09T00:00:00",
          "2023-10-10T00:00:00",
          "2023-10-11T00:00:00",
          "2023-10-12T00:00:00",
          "2023-10-13T00:00:00",
          "2023-10-16T00:00:00",
          "2023-10-17T00:00:00",
          "2023-10-18T00:00:00",
          "2023-10-19T00:00:00",
          "2023-10-20T00:00:00",
          "2023-10-23T00:00:00",
          "2023-10-24T00:00:00",
          "2023-10-25T00:00:00",
          "2023-10-26T00:00:00",
          "2023-10-27T00:00:00",
          "2023-10-30T00:00:00",
          "2023-10-31T00:00:00",
          "2023-11-01T00:00:00",
          "2023-11-02T00:00:00",
          "2023-11-03T00:00:00",
          "2023-11-06T00:00:00",
          "2023-11-07T00:00:00",
          "2023-11-08T00:00:00",
          "2023-11-09T00:00:00",
          "2023-11-10T00:00:00",
          "2023-11-13T00:00:00",
          "2023-11-14T00:00:00",
          "2023-11-15T00:00:00",
          "2023-11-16T00:00:00",
          "2023-11-17T00:00:00",
          "2023-11-20T00:00:00",
          "2023-11-21T00:00:00",
          "2023-11-22T00:00:00",
          "2023-11-23T00:00:00",
          "2023-11-24T00:00:00",
          "2023-11-27T00:00:00",
          "2023-11-28T00:00:00",
          "2023-11-29T00:00:00",
          "2023-11-30T00:00:00",
          "2023-12-01T00:00:00",
          "2023-12-04T00:00:00",
          "2023-12-05T00:00:00",
          "2023-12-06T00:00:00",
          "2023-12-07T00:00:00",
          "2023-12-08T00:00:00",
          "2023-12-11T00:00:00",
          "2023-12-12T00:00:00",
          "2023-12-13T00:00:00",
          "2023-12-14T00:00:00",
          "2023-12-15T00:00:00",
          "2023-12-18T00:00:00",
          "2023-12-19T00:00:00",
          "2023-12-20T00:00:00",
          "2023-12-21T00:00:00",
          "2023-12-22T00:00:00",
          "2023-12-25T00:00:00",
          "2023-12-26T00:00:00",
          "2023-12-27T00:00:00",
          "2023-12-28T00:00:00",
          "2023-12-29T00:00:00",
          "2024-01-02T00:00:00",
          "2024-01-03T00:00:00",
          "2024-01-04T00:00:00",
          "2024-01-05T00:00:00",
          "2024-01-08T00:00:00",
          "2024-01-09T00:00:00",
          "2024-01-10T00:00:00",
          "2024-01-11T00:00:00",
          "2024-01-12T00:00:00",
          "2024-01-15T00:00:00",
          "2024-01-16T00:00:00",
          "2024-01-17T00:00:00",
          "2024-01-18T00:00:00",
          "2024-01-19T00:00:00",
          "2024-01-22T00:00:00",
          "2024-01-23T00:00:00",
          "2024-01-24T00:00:00",
          "2024-01-25T00:00:00",
          "2024-01-26T00:00:00",
          "2024-01-29T00:00:00",
          "2024-01-30T00:00:00",
          "2024-01-31T00:00:00",
          "2024-02-01T00:00:00",
          "2024-02-02T00:00:00",
          "2024-02-05T00:00:00",
          "2024-02-06T00:00:00",
          "2024-02-07T00:00:00",
          "2024-02-08T00:00:00",
          "2024-02-09T00:00:00",
          "2024-02-12T00:00:00",
          "2024-02-13T00:00:00",
          "2024-02-14T00:00:00",
          "2024-02-15T00:00:00",
          "2024-02-16T00:00:00"
         ],
         "xaxis": "x",
         "y": [
          1.11246,
          1.10641,
          1.10497,
          1.10852,
          1.09765,
          1.10141,
          1.09964,
          1.09842,
          1.09379,
          1.0948,
          1.10055,
          1.10021,
          1.09556,
          1.09734,
          1.09805,
          1.09451,
          1.09052,
          1.09043,
          1.08788,
          1.08717,
          1.08696,
          1.08949,
          1.08452,
          1.08627,
          1.08096,
          1.07944,
          1.08182,
          1.08793,
          1.09227,
          1.08427,
          1.07728,
          1.07934,
          1.07209,
          1.07268,
          1.06948,
          1.06993,
          1.075,
          1.07529,
          1.07283,
          1.0642,
          1.06591,
          1.06907,
          1.0679,
          1.06608,
          1.06604,
          1.0642800000000001,
          1.05919,
          1.05719,
          1.05015,
          1.0564,
          1.05735,
          1.04768,
          1.04655,
          1.05037,
          1.05489,
          1.05852,
          1.05657,
          1.06052,
          1.06182,
          1.05272,
          1.0507,
          1.05592,
          1.05769,
          1.05354,
          1.05814,
          1.05931,
          1.06693,
          1.05886,
          1.05664,
          1.05615,
          1.0564,
          1.0614,
          1.05752,
          1.05687,
          1.062,
          1.07292,
          1.07168,
          1.06993,
          1.07083,
          1.06674,
          1.06845,
          1.06981,
          1.08782,
          1.08461,
          1.08513,
          1.09128,
          1.09396,
          1.09101,
          1.08882,
          1.09018,
          1.09362,
          1.09534,
          1.09922,
          1.09686,
          1.08866,
          1.08823,
          1.08351,
          1.07956,
          1.07636,
          1.07934,
          1.07573,
          1.07642,
          1.07938,
          1.08741,
          1.09917,
          1.08939,
          1.09228,
          1.09798,
          1.09397,
          1.10098,
          1.10132,
          1.10135,
          1.10415,
          1.11043,
          1.10609,
          1.1036,
          1.09407,
          1.09212,
          1.09435,
          1.09408,
          1.09496,
          1.09305,
          1.09718,
          1.09716,
          1.09497,
          1.09482,
          1.08748,
          1.08823,
          1.08757,
          1.08968,
          1.0882,
          1.08542,
          1.0884,
          1.08455,
          1.08533,
          1.08321,
          1.08451,
          1.08174,
          1.08709,
          1.07858,
          1.0742099999999999,
          1.07539,
          1.07711,
          1.07769,
          1.07844,
          1.07695,
          1.07084,
          1.07257,
          1.07714,
          1.07769
         ],
         "yaxis": "y"
        }
       ],
       "layout": {
        "legend": {
         "tracegroupgap": 0
        },
        "margin": {
         "t": 60
        },
        "template": {
         "data": {
          "bar": [
           {
            "error_x": {
             "color": "#2a3f5f"
            },
            "error_y": {
             "color": "#2a3f5f"
            },
            "marker": {
             "line": {
              "color": "#E5ECF6",
              "width": 0.5
             },
             "pattern": {
              "fillmode": "overlay",
              "size": 10,
              "solidity": 0.2
             }
            },
            "type": "bar"
           }
          ],
          "barpolar": [
           {
            "marker": {
             "line": {
              "color": "#E5ECF6",
              "width": 0.5
             },
             "pattern": {
              "fillmode": "overlay",
              "size": 10,
              "solidity": 0.2
             }
            },
            "type": "barpolar"
           }
          ],
          "carpet": [
           {
            "aaxis": {
             "endlinecolor": "#2a3f5f",
             "gridcolor": "white",
             "linecolor": "white",
             "minorgridcolor": "white",
             "startlinecolor": "#2a3f5f"
            },
            "baxis": {
             "endlinecolor": "#2a3f5f",
             "gridcolor": "white",
             "linecolor": "white",
             "minorgridcolor": "white",
             "startlinecolor": "#2a3f5f"
            },
            "type": "carpet"
           }
          ],
          "choropleth": [
           {
            "colorbar": {
             "outlinewidth": 0,
             "ticks": ""
            },
            "type": "choropleth"
           }
          ],
          "contour": [
           {
            "colorbar": {
             "outlinewidth": 0,
             "ticks": ""
            },
            "colorscale": [
             [
              0,
              "#0d0887"
             ],
             [
              0.1111111111111111,
              "#46039f"
             ],
             [
              0.2222222222222222,
              "#7201a8"
             ],
             [
              0.3333333333333333,
              "#9c179e"
             ],
             [
              0.4444444444444444,
              "#bd3786"
             ],
             [
              0.5555555555555556,
              "#d8576b"
             ],
             [
              0.6666666666666666,
              "#ed7953"
             ],
             [
              0.7777777777777778,
              "#fb9f3a"
             ],
             [
              0.8888888888888888,
              "#fdca26"
             ],
             [
              1,
              "#f0f921"
             ]
            ],
            "type": "contour"
           }
          ],
          "contourcarpet": [
           {
            "colorbar": {
             "outlinewidth": 0,
             "ticks": ""
            },
            "type": "contourcarpet"
           }
          ],
          "heatmap": [
           {
            "colorbar": {
             "outlinewidth": 0,
             "ticks": ""
            },
            "colorscale": [
             [
              0,
              "#0d0887"
             ],
             [
              0.1111111111111111,
              "#46039f"
             ],
             [
              0.2222222222222222,
              "#7201a8"
             ],
             [
              0.3333333333333333,
              "#9c179e"
             ],
             [
              0.4444444444444444,
              "#bd3786"
             ],
             [
              0.5555555555555556,
              "#d8576b"
             ],
             [
              0.6666666666666666,
              "#ed7953"
             ],
             [
              0.7777777777777778,
              "#fb9f3a"
             ],
             [
              0.8888888888888888,
              "#fdca26"
             ],
             [
              1,
              "#f0f921"
             ]
            ],
            "type": "heatmap"
           }
          ],
          "heatmapgl": [
           {
            "colorbar": {
             "outlinewidth": 0,
             "ticks": ""
            },
            "colorscale": [
             [
              0,
              "#0d0887"
             ],
             [
              0.1111111111111111,
              "#46039f"
             ],
             [
              0.2222222222222222,
              "#7201a8"
             ],
             [
              0.3333333333333333,
              "#9c179e"
             ],
             [
              0.4444444444444444,
              "#bd3786"
             ],
             [
              0.5555555555555556,
              "#d8576b"
             ],
             [
              0.6666666666666666,
              "#ed7953"
             ],
             [
              0.7777777777777778,
              "#fb9f3a"
             ],
             [
              0.8888888888888888,
              "#fdca26"
             ],
             [
              1,
              "#f0f921"
             ]
            ],
            "type": "heatmapgl"
           }
          ],
          "histogram": [
           {
            "marker": {
             "pattern": {
              "fillmode": "overlay",
              "size": 10,
              "solidity": 0.2
             }
            },
            "type": "histogram"
           }
          ],
          "histogram2d": [
           {
            "colorbar": {
             "outlinewidth": 0,
             "ticks": ""
            },
            "colorscale": [
             [
              0,
              "#0d0887"
             ],
             [
              0.1111111111111111,
              "#46039f"
             ],
             [
              0.2222222222222222,
              "#7201a8"
             ],
             [
              0.3333333333333333,
              "#9c179e"
             ],
             [
              0.4444444444444444,
              "#bd3786"
             ],
             [
              0.5555555555555556,
              "#d8576b"
             ],
             [
              0.6666666666666666,
              "#ed7953"
             ],
             [
              0.7777777777777778,
              "#fb9f3a"
             ],
             [
              0.8888888888888888,
              "#fdca26"
             ],
             [
              1,
              "#f0f921"
             ]
            ],
            "type": "histogram2d"
           }
          ],
          "histogram2dcontour": [
           {
            "colorbar": {
             "outlinewidth": 0,
             "ticks": ""
            },
            "colorscale": [
             [
              0,
              "#0d0887"
             ],
             [
              0.1111111111111111,
              "#46039f"
             ],
             [
              0.2222222222222222,
              "#7201a8"
             ],
             [
              0.3333333333333333,
              "#9c179e"
             ],
             [
              0.4444444444444444,
              "#bd3786"
             ],
             [
              0.5555555555555556,
              "#d8576b"
             ],
             [
              0.6666666666666666,
              "#ed7953"
             ],
             [
              0.7777777777777778,
              "#fb9f3a"
             ],
             [
              0.8888888888888888,
              "#fdca26"
             ],
             [
              1,
              "#f0f921"
             ]
            ],
            "type": "histogram2dcontour"
           }
          ],
          "mesh3d": [
           {
            "colorbar": {
             "outlinewidth": 0,
             "ticks": ""
            },
            "type": "mesh3d"
           }
          ],
          "parcoords": [
           {
            "line": {
             "colorbar": {
              "outlinewidth": 0,
              "ticks": ""
             }
            },
            "type": "parcoords"
           }
          ],
          "pie": [
           {
            "automargin": true,
            "type": "pie"
           }
          ],
          "scatter": [
           {
            "fillpattern": {
             "fillmode": "overlay",
             "size": 10,
             "solidity": 0.2
            },
            "type": "scatter"
           }
          ],
          "scatter3d": [
           {
            "line": {
             "colorbar": {
              "outlinewidth": 0,
              "ticks": ""
             }
            },
            "marker": {
             "colorbar": {
              "outlinewidth": 0,
              "ticks": ""
             }
            },
            "type": "scatter3d"
           }
          ],
          "scattercarpet": [
           {
            "marker": {
             "colorbar": {
              "outlinewidth": 0,
              "ticks": ""
             }
            },
            "type": "scattercarpet"
           }
          ],
          "scattergeo": [
           {
            "marker": {
             "colorbar": {
              "outlinewidth": 0,
              "ticks": ""
             }
            },
            "type": "scattergeo"
           }
          ],
          "scattergl": [
           {
            "marker": {
             "colorbar": {
              "outlinewidth": 0,
              "ticks": ""
             }
            },
            "type": "scattergl"
           }
          ],
          "scattermapbox": [
           {
            "marker": {
             "colorbar": {
              "outlinewidth": 0,
              "ticks": ""
             }
            },
            "type": "scattermapbox"
           }
          ],
          "scatterpolar": [
           {
            "marker": {
             "colorbar": {
              "outlinewidth": 0,
              "ticks": ""
             }
            },
            "type": "scatterpolar"
           }
          ],
          "scatterpolargl": [
           {
            "marker": {
             "colorbar": {
              "outlinewidth": 0,
              "ticks": ""
             }
            },
            "type": "scatterpolargl"
           }
          ],
          "scatterternary": [
           {
            "marker": {
             "colorbar": {
              "outlinewidth": 0,
              "ticks": ""
             }
            },
            "type": "scatterternary"
           }
          ],
          "surface": [
           {
            "colorbar": {
             "outlinewidth": 0,
             "ticks": ""
            },
            "colorscale": [
             [
              0,
              "#0d0887"
             ],
             [
              0.1111111111111111,
              "#46039f"
             ],
             [
              0.2222222222222222,
              "#7201a8"
             ],
             [
              0.3333333333333333,
              "#9c179e"
             ],
             [
              0.4444444444444444,
              "#bd3786"
             ],
             [
              0.5555555555555556,
              "#d8576b"
             ],
             [
              0.6666666666666666,
              "#ed7953"
             ],
             [
              0.7777777777777778,
              "#fb9f3a"
             ],
             [
              0.8888888888888888,
              "#fdca26"
             ],
             [
              1,
              "#f0f921"
             ]
            ],
            "type": "surface"
           }
          ],
          "table": [
           {
            "cells": {
             "fill": {
              "color": "#EBF0F8"
             },
             "line": {
              "color": "white"
             }
            },
            "header": {
             "fill": {
              "color": "#C8D4E3"
             },
             "line": {
              "color": "white"
             }
            },
            "type": "table"
           }
          ]
         },
         "layout": {
          "annotationdefaults": {
           "arrowcolor": "#2a3f5f",
           "arrowhead": 0,
           "arrowwidth": 1
          },
          "autotypenumbers": "strict",
          "coloraxis": {
           "colorbar": {
            "outlinewidth": 0,
            "ticks": ""
           }
          },
          "colorscale": {
           "diverging": [
            [
             0,
             "#8e0152"
            ],
            [
             0.1,
             "#c51b7d"
            ],
            [
             0.2,
             "#de77ae"
            ],
            [
             0.3,
             "#f1b6da"
            ],
            [
             0.4,
             "#fde0ef"
            ],
            [
             0.5,
             "#f7f7f7"
            ],
            [
             0.6,
             "#e6f5d0"
            ],
            [
             0.7,
             "#b8e186"
            ],
            [
             0.8,
             "#7fbc41"
            ],
            [
             0.9,
             "#4d9221"
            ],
            [
             1,
             "#276419"
            ]
           ],
           "sequential": [
            [
             0,
             "#0d0887"
            ],
            [
             0.1111111111111111,
             "#46039f"
            ],
            [
             0.2222222222222222,
             "#7201a8"
            ],
            [
             0.3333333333333333,
             "#9c179e"
            ],
            [
             0.4444444444444444,
             "#bd3786"
            ],
            [
             0.5555555555555556,
             "#d8576b"
            ],
            [
             0.6666666666666666,
             "#ed7953"
            ],
            [
             0.7777777777777778,
             "#fb9f3a"
            ],
            [
             0.8888888888888888,
             "#fdca26"
            ],
            [
             1,
             "#f0f921"
            ]
           ],
           "sequentialminus": [
            [
             0,
             "#0d0887"
            ],
            [
             0.1111111111111111,
             "#46039f"
            ],
            [
             0.2222222222222222,
             "#7201a8"
            ],
            [
             0.3333333333333333,
             "#9c179e"
            ],
            [
             0.4444444444444444,
             "#bd3786"
            ],
            [
             0.5555555555555556,
             "#d8576b"
            ],
            [
             0.6666666666666666,
             "#ed7953"
            ],
            [
             0.7777777777777778,
             "#fb9f3a"
            ],
            [
             0.8888888888888888,
             "#fdca26"
            ],
            [
             1,
             "#f0f921"
            ]
           ]
          },
          "colorway": [
           "#636efa",
           "#EF553B",
           "#00cc96",
           "#ab63fa",
           "#FFA15A",
           "#19d3f3",
           "#FF6692",
           "#B6E880",
           "#FF97FF",
           "#FECB52"
          ],
          "font": {
           "color": "#2a3f5f"
          },
          "geo": {
           "bgcolor": "white",
           "lakecolor": "white",
           "landcolor": "#E5ECF6",
           "showlakes": true,
           "showland": true,
           "subunitcolor": "white"
          },
          "hoverlabel": {
           "align": "left"
          },
          "hovermode": "closest",
          "mapbox": {
           "style": "light"
          },
          "paper_bgcolor": "white",
          "plot_bgcolor": "#E5ECF6",
          "polar": {
           "angularaxis": {
            "gridcolor": "white",
            "linecolor": "white",
            "ticks": ""
           },
           "bgcolor": "#E5ECF6",
           "radialaxis": {
            "gridcolor": "white",
            "linecolor": "white",
            "ticks": ""
           }
          },
          "scene": {
           "xaxis": {
            "backgroundcolor": "#E5ECF6",
            "gridcolor": "white",
            "gridwidth": 2,
            "linecolor": "white",
            "showbackground": true,
            "ticks": "",
            "zerolinecolor": "white"
           },
           "yaxis": {
            "backgroundcolor": "#E5ECF6",
            "gridcolor": "white",
            "gridwidth": 2,
            "linecolor": "white",
            "showbackground": true,
            "ticks": "",
            "zerolinecolor": "white"
           },
           "zaxis": {
            "backgroundcolor": "#E5ECF6",
            "gridcolor": "white",
            "gridwidth": 2,
            "linecolor": "white",
            "showbackground": true,
            "ticks": "",
            "zerolinecolor": "white"
           }
          },
          "shapedefaults": {
           "line": {
            "color": "#2a3f5f"
           }
          },
          "ternary": {
           "aaxis": {
            "gridcolor": "white",
            "linecolor": "white",
            "ticks": ""
           },
           "baxis": {
            "gridcolor": "white",
            "linecolor": "white",
            "ticks": ""
           },
           "bgcolor": "#E5ECF6",
           "caxis": {
            "gridcolor": "white",
            "linecolor": "white",
            "ticks": ""
           }
          },
          "title": {
           "x": 0.05
          },
          "xaxis": {
           "automargin": true,
           "gridcolor": "white",
           "linecolor": "white",
           "ticks": "",
           "title": {
            "standoff": 15
           },
           "zerolinecolor": "white",
           "zerolinewidth": 2
          },
          "yaxis": {
           "automargin": true,
           "gridcolor": "white",
           "linecolor": "white",
           "ticks": "",
           "title": {
            "standoff": 15
           },
           "zerolinecolor": "white",
           "zerolinewidth": 2
          }
         }
        },
        "xaxis": {
         "anchor": "y",
         "domain": [
          0,
          1
         ],
         "title": {
          "text": "time"
         }
        },
        "yaxis": {
         "anchor": "x",
         "domain": [
          0,
          1
         ],
         "title": {
          "text": "close"
         }
        }
       }
      }
     },
     "metadata": {},
     "output_type": "display_data"
    }
   ],
   "source": [
    "fig = px.line(ohlc, x=ohlc['time'], y=ohlc['close'])\n",
    "fig.show()"
   ]
  }
 ],
 "metadata": {
  "kernelspec": {
   "display_name": "Python 3 (ipykernel)",
   "language": "python",
   "name": "python3"
  },
  "language_info": {
   "codemirror_mode": {
    "name": "ipython",
    "version": 3
   },
   "file_extension": ".py",
   "mimetype": "text/x-python",
   "name": "python",
   "nbconvert_exporter": "python",
   "pygments_lexer": "ipython3",
   "version": "3.9.16"
  }
 },
 "nbformat": 4,
 "nbformat_minor": 4
}
